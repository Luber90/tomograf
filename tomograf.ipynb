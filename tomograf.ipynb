{
 "cells": [
  {
   "cell_type": "code",
   "execution_count": 2,
   "metadata": {
    "scrolled": false
   },
   "outputs": [
    {
     "data": {
      "application/vnd.jupyter.widget-view+json": {
       "model_id": "cb4d3a91b1524450b7687b3b094583d6",
       "version_major": 2,
       "version_minor": 0
      },
      "text/plain": [
       "interactive(children=(Dropdown(description='four', index=1, options=(('On', True), ('Off', False)), value=Fals…"
      ]
     },
     "metadata": {},
     "output_type": "display_data"
    },
    {
     "data": {
      "application/vnd.jupyter.widget-view+json": {
       "model_id": "b247b69713a94bb6ae27457e6f90e55b",
       "version_major": 2,
       "version_minor": 0
      },
      "text/plain": [
       "interactive(children=(IntSlider(value=5, description='n', max=10, min=1), Output()), _dom_classes=('widget-int…"
      ]
     },
     "metadata": {},
     "output_type": "display_data"
    },
    {
     "data": {
      "application/vnd.jupyter.widget-view+json": {
       "model_id": "b2e38683325249ec9811cf056c92d978",
       "version_major": 2,
       "version_minor": 0
      },
      "text/plain": [
       "interactive(children=(IntSlider(value=5, description='n', max=10, min=1), Output()), _dom_classes=('widget-int…"
      ]
     },
     "metadata": {},
     "output_type": "display_data"
    },
    {
     "data": {
      "application/vnd.jupyter.widget-view+json": {
       "model_id": "33eb5e0c510342b09f54d88b626c1cd3",
       "version_major": 2,
       "version_minor": 0
      },
      "text/plain": [
       "interactive(children=(IntSlider(value=3, description='p1', max=50), IntSlider(value=98, description='p2', min=…"
      ]
     },
     "metadata": {},
     "output_type": "display_data"
    },
    {
     "data": {
      "application/vnd.jupyter.widget-view+json": {
       "model_id": "88c412a3921a4fb9b4ffdf17be2820b5",
       "version_major": 2,
       "version_minor": 0
      },
      "text/plain": [
       "interactive(children=(Text(value='', description='name'), Text(value='', description='idd'), Text(value='', de…"
      ]
     },
     "metadata": {},
     "output_type": "display_data"
    },
    {
     "data": {
      "application/vnd.jupyter.widget-view+json": {
       "model_id": "be2219dfef0740f5aecc166f7b040a19",
       "version_major": 2,
       "version_minor": 0
      },
      "text/plain": [
       "interactive(children=(Text(value='', description='savedFile'), Button(description='Run Interact', style=Button…"
      ]
     },
     "metadata": {},
     "output_type": "display_data"
    },
    {
     "data": {
      "text/plain": [
       "<function main.readDicom(savedFile)>"
      ]
     },
     "execution_count": 2,
     "metadata": {},
     "output_type": "execute_result"
    }
   ],
   "source": [
    "import main as m\n",
    "import numpy as np\n",
    "import matplotlib\n",
    "from skimage import io\n",
    "from __future__ import print_function\n",
    "from ipywidgets import interact, interactive, fixed, interact_manual\n",
    "import ipywidgets as widgets\n",
    "\n",
    "matplotlib.rcParams['figure.figsize'] = [10, 12]\n",
    "def clicked(_):\n",
    "    global name, idd, age, date, comm, t, time\n",
    "    t.saveDicom(name=name.value, idd=idd.value, date=date.value, age=age.value, comment=comm.value, time=time.value)\n",
    "\n",
    "    \n",
    "\n",
    "name = widgets.Text(value='', description='Imię nazwisko:')\n",
    "idd = widgets.Text(value='', description='Id:')\n",
    "age = widgets.Text(value='', description='Wiek:')\n",
    "date = widgets.Text(value='', description='Data:')\n",
    "time = widgets.Text(value='', description='Czas:')\n",
    "comm = widgets.Text(value='', description='Komentarz:')\n",
    "button = widgets.Button(description='Make DICOM file')\n",
    "button.on_click(clicked)\n",
    "out = widgets.Output()\n",
    "t = m.Tomograf(180, 3*np.pi/4, 4)\n",
    "t.loadImg(\"photos/SADDLE_PE.jpg\")\n",
    "interact_manual(t.run, four=[('On', True), ('Off',False)], filtr=[('On', True), ('Off',False)], n=(1,360,1),\n",
    "         l=(0, 2*np.pi, np.pi/4), a=(2,90,2), continuous_update=False)\n",
    "interact(t.getSinTab, n=(1,10,1))\n",
    "interact(t.getResTab, n=(1,10,1))\n",
    "interact(t.showResult, p1=(0,50,1), p2=(50, 100, 1), continuous_update=False)\n",
    "widgets.VBox([name, idd, age, date, time, comm, button,out])\n",
    "interact_manual(t.saveDicom, name=\"\", idd=\"\", age=\"\", comment=\"\", date=\"\", time=\"\", f=\"dicom.dcm\")\n",
    "interact_manual(m.readDicom, savedFile=\"\")"
   ]
  },
  {
   "cell_type": "code",
   "execution_count": null,
   "metadata": {},
   "outputs": [],
   "source": []
  },
  {
   "cell_type": "code",
   "execution_count": null,
   "metadata": {},
   "outputs": [],
   "source": []
  }
 ],
 "metadata": {
  "kernelspec": {
   "display_name": "Python 3",
   "language": "python",
   "name": "python3"
  },
  "language_info": {
   "codemirror_mode": {
    "name": "ipython",
    "version": 3
   },
   "file_extension": ".py",
   "mimetype": "text/x-python",
   "name": "python",
   "nbconvert_exporter": "python",
   "pygments_lexer": "ipython3",
   "version": "3.8.6"
  }
 },
 "nbformat": 4,
 "nbformat_minor": 4
}
